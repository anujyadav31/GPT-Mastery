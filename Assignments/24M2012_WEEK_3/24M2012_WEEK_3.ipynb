{
  "cells": [
    {
      "cell_type": "code",
      "execution_count": 1,
      "metadata": {
        "id": "dIjnzLqa513-"
      },
      "outputs": [],
      "source": [
        "import torch\n",
        "import matplotlib.pyplot as plt\n",
        "import random\n"
      ]
    },
    {
      "cell_type": "markdown",
      "metadata": {
        "id": "biZSyFxg513_"
      },
      "source": [
        "First, we load the words dataset and create char to id and id to char mappings."
      ]
    },
    {
      "cell_type": "code",
      "execution_count": 2,
      "metadata": {
        "id": "9llS4E1q514A"
      },
      "outputs": [],
      "source": [
        "words = open('names.txt').read().splitlines()\n",
        "chars = ['.'] + sorted(list(set(''.join(words))))\n",
        "stoi = {c:i for i,c in enumerate(chars)}\n",
        "itos = {i:c for i,c in enumerate(chars)}"
      ]
    },
    {
      "cell_type": "markdown",
      "metadata": {
        "id": "hMBct6I5514A"
      },
      "source": [
        "For this model we will consider the 3 previous characters to predict the next character in a name. As we did in the previous lecture, we can use the '.' character to denote start and end of sequence.\n",
        "\n",
        "We can print a few examples to see that it works:"
      ]
    },
    {
      "cell_type": "code",
      "execution_count": 3,
      "metadata": {
        "colab": {
          "base_uri": "https://localhost:8080/"
        },
        "id": "Su-G2wS1514B",
        "outputId": "8281ef2d-4712-4845-df1e-e172b3585039"
      },
      "outputs": [
        {
          "output_type": "stream",
          "name": "stdout",
          "text": [
            "... -----> e\n",
            "..e -----> m\n",
            ".em -----> m\n",
            "emm -----> a\n",
            "mma -----> .\n",
            "... -----> o\n",
            "..o -----> l\n",
            ".ol -----> i\n",
            "oli -----> v\n",
            "liv -----> i\n",
            "ivi -----> a\n",
            "via -----> .\n",
            "... -----> a\n",
            "..a -----> v\n",
            ".av -----> a\n",
            "ava -----> .\n",
            "... -----> i\n",
            "..i -----> s\n",
            ".is -----> a\n",
            "isa -----> b\n",
            "sab -----> e\n",
            "abe -----> l\n",
            "bel -----> l\n",
            "ell -----> a\n",
            "lla -----> .\n",
            "... -----> s\n",
            "..s -----> o\n",
            ".so -----> p\n",
            "sop -----> h\n",
            "oph -----> i\n",
            "phi -----> a\n",
            "hia -----> .\n"
          ]
        }
      ],
      "source": [
        "block_size = 3\n",
        "\n",
        "X, Y = [], []\n",
        "\n",
        "for w in words[:5]:\n",
        "    context = [0] * block_size\n",
        "    for c in w + '.':\n",
        "        ix = stoi[c]\n",
        "        X.append(context)\n",
        "        Y.append(ix)\n",
        "        print(''.join(itos[i] for i in context), '----->', itos[ix])\n",
        "        context = context[1:] + [ix]\n",
        "\n",
        "X = torch.tensor(X)\n",
        "Y = torch.tensor(Y)\n"
      ]
    },
    {
      "cell_type": "markdown",
      "metadata": {
        "id": "HrgSCm3e514B"
      },
      "source": [
        "Next let's create the embedding vectors. We can first experiment with a smaller size -- I chose 3."
      ]
    },
    {
      "cell_type": "code",
      "execution_count": 4,
      "metadata": {
        "colab": {
          "base_uri": "https://localhost:8080/"
        },
        "id": "IIv25IhI514B",
        "outputId": "7487ca19-9bdd-49b7-8440-e56dfce9b5df"
      },
      "outputs": [
        {
          "output_type": "execute_result",
          "data": {
            "text/plain": [
              "torch.Size([32, 3, 3])"
            ]
          },
          "metadata": {},
          "execution_count": 4
        }
      ],
      "source": [
        "C = torch.randn((27, 3), requires_grad=True)\n",
        "emb = C[X]\n",
        "emb.shape"
      ]
    },
    {
      "cell_type": "markdown",
      "metadata": {
        "id": "jHsUwZJh514C"
      },
      "source": [
        "The hidden layer will connect the embeddings to a linear layer, we choose a size of 100 neurons.\n",
        "\n",
        "The input size will be the block_size (3) multiplied by the embedding size (also 3) = 9:"
      ]
    },
    {
      "cell_type": "code",
      "execution_count": 5,
      "metadata": {
        "id": "IiUyh517514C"
      },
      "outputs": [],
      "source": [
        "W1 = torch.randn((9, 100), requires_grad=True)\n",
        "b1 = torch.randn(100, requires_grad=True)"
      ]
    },
    {
      "cell_type": "markdown",
      "metadata": {
        "id": "nH-0uzu2514C"
      },
      "source": [
        "In order to feed the embeddings into the hidden layer, we will need to squash the dimensions such that they are of the shape (X, 9) instead of (X, 3, 3) which we can accomplish with the *view* method:"
      ]
    },
    {
      "cell_type": "code",
      "execution_count": 6,
      "metadata": {
        "colab": {
          "base_uri": "https://localhost:8080/"
        },
        "id": "SJ53fFq9514C",
        "outputId": "5576420b-45d7-496c-f580-c42a69112b3d"
      },
      "outputs": [
        {
          "output_type": "execute_result",
          "data": {
            "text/plain": [
              "tensor([[ 1.1888, -2.2025, -3.2307,  ..., -5.3079, -3.4390,  0.1399],\n",
              "        [ 1.2830, -1.3096, -2.6805,  ..., -2.8173,  0.2208,  0.9628],\n",
              "        [-0.3823,  1.8239, -2.7051,  ...,  1.6085,  0.7947,  3.2399],\n",
              "        ...,\n",
              "        [ 0.4095, -3.6696,  1.7153,  ..., -1.9528, -1.6817, -2.5022],\n",
              "        [-2.5730, -0.6115,  1.1039,  ..., -2.4368,  2.7684, -1.2567],\n",
              "        [-2.0742,  0.5300, -3.6352,  ...,  2.2938,  2.8177, -0.1365]],\n",
              "       grad_fn=<AddBackward0>)"
            ]
          },
          "metadata": {},
          "execution_count": 6
        }
      ],
      "source": [
        "(emb.view(-1, 9) @ W1) + b1"
      ]
    },
    {
      "cell_type": "markdown",
      "metadata": {
        "id": "8AEXU3TM514C"
      },
      "source": [
        "Finally, the output layer will map the 100 activations from the hidden layer to 27 activations that we will use to represent the probability distribution for each of the 27 possible characters.\n",
        "\n",
        "In total, the parameters in our network include:\n",
        " * embedding weights (C)\n",
        " * hidden layer weights (W1)\n",
        " * hidden layer biases (b1)\n",
        " * output layer weights (W2)\n",
        " * output layer biases (b2)"
      ]
    },
    {
      "cell_type": "code",
      "execution_count": 7,
      "metadata": {
        "id": "k645ZKVM514C"
      },
      "outputs": [],
      "source": [
        "W2 = torch.randn((100, 27), requires_grad=True)\n",
        "b2 = torch.randn(27, requires_grad=True)\n",
        "\n",
        "parameters = [C, W1, b1, W2, b2]"
      ]
    },
    {
      "cell_type": "markdown",
      "metadata": {
        "id": "w77L5-Xa514C"
      },
      "source": [
        "We can write a forward propogation function to propogate data through the network. Note that we do not apply an activation to the output layer yet (because we are going to use Cross Entropy Loss! which assumes the values are still logits)."
      ]
    },
    {
      "cell_type": "code",
      "execution_count": 8,
      "metadata": {
        "id": "2DtKBJhL514C"
      },
      "outputs": [],
      "source": [
        "def forward(x, parameters):\n",
        "    C, W1, b1, W2, b2 = parameters\n",
        "    emb = C[x]\n",
        "    h = (emb.view(-1, emb.shape[1] * emb.shape[2]) @ W1) + b1\n",
        "    h = h.tanh()\n",
        "    h = (h @ W2) + b2\n",
        "    return h # returns logits"
      ]
    },
    {
      "cell_type": "code",
      "execution_count": 9,
      "metadata": {
        "colab": {
          "base_uri": "https://localhost:8080/"
        },
        "id": "MyIIdVzz514C",
        "outputId": "a17aedd8-e3bf-4e7d-a08e-dd9040aaa875"
      },
      "outputs": [
        {
          "output_type": "execute_result",
          "data": {
            "text/plain": [
              "(torch.Size([32, 27]), torch.Size([32, 3]))"
            ]
          },
          "metadata": {},
          "execution_count": 9
        }
      ],
      "source": [
        "forward(X, parameters).shape, X.shape"
      ]
    },
    {
      "cell_type": "markdown",
      "metadata": {
        "id": "LPstf63c514D"
      },
      "source": [
        "Next we can write a function the performs one step of optimization. It feeds some input through the network, computes the cross entropy loss on the output logits, then performs a gradient descent step on all the paramter weights and resets the gradients to 0."
      ]
    },
    {
      "cell_type": "code",
      "execution_count": 10,
      "metadata": {
        "id": "HV6ofvKW514D"
      },
      "outputs": [],
      "source": [
        "def optimize_step(x, y, parameters, lr=0.1):\n",
        "    logits = forward(x, parameters)\n",
        "    loss = torch.nn.functional.cross_entropy(logits, y)\n",
        "    loss.backward()\n",
        "    for p in parameters:\n",
        "        p.data -= p.grad * lr\n",
        "        p.grad = None\n",
        "    return loss.item()"
      ]
    },
    {
      "cell_type": "markdown",
      "metadata": {
        "id": "j06ZfIWs514D"
      },
      "source": [
        "We can see that running 2 optimization steps decreases the loss!"
      ]
    },
    {
      "cell_type": "code",
      "execution_count": 11,
      "metadata": {
        "colab": {
          "base_uri": "https://localhost:8080/"
        },
        "id": "4hWG1P4W514D",
        "outputId": "297f6582-2415-4f27-9264-c0c2d7ea627b"
      },
      "outputs": [
        {
          "output_type": "execute_result",
          "data": {
            "text/plain": [
              "17.577491760253906"
            ]
          },
          "metadata": {},
          "execution_count": 11
        }
      ],
      "source": [
        "optimize_step(X, Y, parameters)"
      ]
    },
    {
      "cell_type": "code",
      "execution_count": 12,
      "metadata": {
        "colab": {
          "base_uri": "https://localhost:8080/"
        },
        "id": "l_fNAKGh514D",
        "outputId": "064c6319-e024-4ded-d2b1-951e343e2619"
      },
      "outputs": [
        {
          "output_type": "execute_result",
          "data": {
            "text/plain": [
              "15.144564628601074"
            ]
          },
          "metadata": {},
          "execution_count": 12
        }
      ],
      "source": [
        "optimize_step(X, Y, parameters)"
      ]
    },
    {
      "cell_type": "markdown",
      "metadata": {
        "id": "65bMsY8J514D"
      },
      "source": [
        "Another useful function would be a way to instantiate a network with different layer hyperparamters so that we can easily experiment with different configurations. We can wrap the instantiation of each of the layers in *init_parameters*."
      ]
    },
    {
      "cell_type": "code",
      "execution_count": 13,
      "metadata": {
        "id": "0ZYmc-gU514D"
      },
      "outputs": [],
      "source": [
        "def init_parameters(num_chars, block_size, embedding_size, hidden_layer_size):\n",
        "    C = torch.randn((num_chars, embedding_size), requires_grad=True)\n",
        "    W1 = torch.randn((embedding_size * block_size, hidden_layer_size), requires_grad=True)\n",
        "    b1 = torch.randn(hidden_layer_size, requires_grad=True)\n",
        "    W2 = torch.randn((hidden_layer_size, num_chars), requires_grad=True)\n",
        "    b2 = torch.randn(num_chars, requires_grad=True)\n",
        "\n",
        "    return [C, W1, b1, W2, b2]\n"
      ]
    },
    {
      "cell_type": "code",
      "execution_count": 14,
      "metadata": {
        "id": "mh6oqwE0514D"
      },
      "outputs": [],
      "source": [
        "parameters = init_parameters(27, 3, 3, 100)"
      ]
    },
    {
      "cell_type": "markdown",
      "metadata": {
        "id": "XGAQS2Q-514D"
      },
      "source": [
        "We might want to mess around with changing the block size, so we can create a function that creates input data with a given block size:"
      ]
    },
    {
      "cell_type": "code",
      "execution_count": 15,
      "metadata": {
        "id": "K3O-0p1X514D"
      },
      "outputs": [],
      "source": [
        "def build_inputs_and_labels(words, block_size):\n",
        "    X, Y = [], []\n",
        "\n",
        "    for w in words:\n",
        "        context = [0] * block_size\n",
        "        for c in w + '.':\n",
        "            ix = stoi[c]\n",
        "            X.append(context)\n",
        "            Y.append(ix)\n",
        "            context = context[1:] + [ix]\n",
        "\n",
        "    X = torch.tensor(X)\n",
        "    Y = torch.tensor(Y)\n",
        "    return X, Y"
      ]
    },
    {
      "cell_type": "markdown",
      "metadata": {
        "id": "e-vWTYvr514D"
      },
      "source": [
        "Additionally, now that we are using a much larger number of paramters, we need to make sure that we don't accidentally overfit to the data we train on. To combat this, we will split the data into a training set, a validation set, and a test set wtih this function:"
      ]
    },
    {
      "cell_type": "code",
      "execution_count": 16,
      "metadata": {
        "id": "BQPfKyBy514D"
      },
      "outputs": [],
      "source": [
        "def train_dev_test_split(words, train_size=0.8, dev_size=0.1):\n",
        "    random.shuffle(words)\n",
        "    assert train_size + dev_size < 1\n",
        "    num_words = len(words)\n",
        "    train_split = int(num_words * train_size)\n",
        "    dev_split = int(num_words * (train_size + dev_size))\n",
        "    train_words = words[:train_split]\n",
        "    dev_words = words[train_split:dev_split]\n",
        "    test_words = words[dev_split:]\n",
        "    return train_words, dev_words, test_words"
      ]
    },
    {
      "cell_type": "markdown",
      "metadata": {
        "id": "2vANXo7i514E"
      },
      "source": [
        "Now we can split the data and create input tensors for each of the datasets:"
      ]
    },
    {
      "cell_type": "code",
      "execution_count": 17,
      "metadata": {
        "id": "YeZOlChu514E"
      },
      "outputs": [],
      "source": [
        "train_words, dev_words, test_words = train_dev_test_split(words)"
      ]
    },
    {
      "cell_type": "code",
      "execution_count": 18,
      "metadata": {
        "id": "jdlJpRx3514E"
      },
      "outputs": [],
      "source": [
        "X_train, Y_train = build_inputs_and_labels(train_words, block_size)\n",
        "X_dev, Y_dev = build_inputs_and_labels(dev_words, block_size)\n",
        "X_test, Y_test = build_inputs_and_labels(test_words, block_size)"
      ]
    },
    {
      "cell_type": "markdown",
      "metadata": {
        "id": "7b0CZku7514E"
      },
      "source": [
        "Putting it all together, we can write a gradient descent algorithm. The features include:\n",
        "* Minibatches: It's very slow to perform a gradient descent step on the entire dataset. Instead, we can samples a subset of the data and perform a gradient descent step on the sample, which should allow us to converge more quickly.\n",
        "* lr_deacy: Modern optimizers use all sorts of techniques to fine-tune the learning rate during training. For our purposes, we can just apply a decay factor over time s.t. (new lr) = (1 - decay_rate) * old_lr\n",
        "* Regularization: We can also include a regularization term in the loss function, which will normalize the model's output (by punishing large weights) and help prevent against overfitting. My implementation is very janky but does the job.\n"
      ]
    },
    {
      "cell_type": "code",
      "execution_count": 19,
      "metadata": {
        "id": "4oNg_xF6514E"
      },
      "outputs": [],
      "source": [
        "def gradient_descent(x, y, parameters, iterations=100, minibatch_size=100, lr=0.1, lr_decay=0.001, regularization=0.01, print_every=10):\n",
        "    losses = []\n",
        "    for i in range(iterations):\n",
        "        batch_indices = torch.randint(0, x.shape[0], (minibatch_size,))\n",
        "        xi = x[batch_indices]\n",
        "        yi = y[batch_indices]\n",
        "        reg_term = torch.sum(torch.stack([(p**2).sum() for p in parameters])).divide(torch.sum(torch.tensor([p.numel() for p in parameters]))) * regularization\n",
        "        loss = optimize_step(xi, yi, parameters, lr) + reg_term\n",
        "        losses.append(loss)\n",
        "        if i % print_every == 0:\n",
        "            print(f'Iteration {i} loss: {loss}')\n",
        "        lr = lr * (1 - lr_decay)\n",
        "    return losses\n",
        ""
      ]
    },
    {
      "cell_type": "markdown",
      "metadata": {
        "id": "kFWcINl4514E"
      },
      "source": [
        "On the topic of learning rate decay, we can play around with a learning rate and a decay rate to see how the learning rate changes over time:"
      ]
    },
    {
      "cell_type": "code",
      "execution_count": 20,
      "metadata": {
        "colab": {
          "base_uri": "https://localhost:8080/",
          "height": 448
        },
        "id": "CIh3oZbS514E",
        "outputId": "e5160b56-dec6-443e-914a-7066b65a2ef0"
      },
      "outputs": [
        {
          "output_type": "execute_result",
          "data": {
            "text/plain": [
              "[<matplotlib.lines.Line2D at 0x7a6a27939750>]"
            ]
          },
          "metadata": {},
          "execution_count": 20
        },
        {
          "output_type": "display_data",
          "data": {
            "text/plain": [
              "<Figure size 640x480 with 1 Axes>"
            ],
            "image/png": "[encoded data removed]"
          },
          "metadata": {}
        }
      ],
      "source": [
        "import numpy as np\n",
        "timesteps=300000\n",
        "init_lr = 0.2\n",
        "decay_rate = 0.00002\n",
        "plt.plot(np.arange(timesteps), [init_lr * ((1 - decay_rate) ** i)for i in range(1, timesteps + 1)])"
      ]
    },
    {
      "cell_type": "markdown",
      "metadata": {
        "id": "LmZYBiPb514E"
      },
      "source": [
        "### E01:\n",
        "#### *Tune the hyperparameters of the training to beat my best validation loss of 2.2*"
      ]
    },
    {
      "cell_type": "markdown",
      "metadata": {
        "id": "bnUn2-7S514E"
      },
      "source": [
        "After running many different experiments, I was able to improve upon the results in lecture by increasing the minibatch size, and using learning rate decay to gradually reduce the learning rate over the course of training. I think that using a larger minibatch size resulted in smoother convergence than the size 32 batches we used in lecture, which helped us reach a lower loss value. A smooth learning rate decay curve also likely helped with this:"
      ]
    },
    {
      "cell_type": "code",
      "execution_count": 21,
      "metadata": {
        "colab": {
          "base_uri": "https://localhost:8080/"
        },
        "id": "RWFFr3-i514E",
        "outputId": "0f0ab397-9891-4fa1-831c-b44c833912fd"
      },
      "outputs": [
        {
          "output_type": "stream",
          "name": "stdout",
          "text": [
            "Iteration 0 loss: 27.030107498168945\n",
            "Iteration 10000 loss: 2.482227325439453\n",
            "Iteration 20000 loss: 2.1685237884521484\n",
            "Iteration 30000 loss: 2.3216135501861572\n",
            "Iteration 40000 loss: 2.086141586303711\n",
            "Iteration 50000 loss: 2.047783374786377\n",
            "Iteration 60000 loss: 2.324355125427246\n",
            "Iteration 70000 loss: 2.263662576675415\n",
            "Iteration 80000 loss: 2.184842348098755\n",
            "Iteration 90000 loss: 2.204026460647583\n",
            "Iteration 100000 loss: 2.268047571182251\n",
            "Iteration 110000 loss: 2.125098466873169\n",
            "Iteration 120000 loss: 2.3255839347839355\n",
            "Iteration 130000 loss: 2.132024049758911\n",
            "Iteration 140000 loss: 2.256807327270508\n",
            "Iteration 150000 loss: 2.1870903968811035\n",
            "Iteration 160000 loss: 2.038959264755249\n",
            "Iteration 170000 loss: 2.285935163497925\n",
            "Iteration 180000 loss: 2.2013797760009766\n",
            "Iteration 190000 loss: 2.1849381923675537\n",
            "Iteration 200000 loss: 2.0937795639038086\n",
            "Iteration 210000 loss: 2.248771905899048\n",
            "Iteration 220000 loss: 2.144094228744507\n",
            "Iteration 230000 loss: 2.1325316429138184\n",
            "Iteration 240000 loss: 2.157921075820923\n",
            "Iteration 250000 loss: 2.1738457679748535\n",
            "Iteration 260000 loss: 2.221024990081787\n",
            "Iteration 270000 loss: 2.1724586486816406\n",
            "Iteration 280000 loss: 2.2757837772369385\n",
            "Iteration 290000 loss: 2.277510643005371\n"
          ]
        }
      ],
      "source": [
        "emb_size = 10\n",
        "block_size = 3\n",
        "num_chars = len(chars)\n",
        "hidden_layer_size = 200\n",
        "X, Y = build_inputs_and_labels(words, block_size)\n",
        "parameters = init_parameters(num_chars, block_size, emb_size, hidden_layer_size)\n",
        "losses = gradient_descent(X_train, Y_train, parameters, iterations=300000, minibatch_size=128, lr=0.2, lr_decay=0.00002, regularization=0.01, print_every=10000)"
      ]
    },
    {
      "cell_type": "code",
      "execution_count": 22,
      "metadata": {
        "colab": {
          "base_uri": "https://localhost:8080/",
          "height": 448
        },
        "id": "KXv5rU16514E",
        "outputId": "819c4404-a79f-4ed4-bf0e-ba8b2ac13826"
      },
      "outputs": [
        {
          "output_type": "execute_result",
          "data": {
            "text/plain": [
              "[<matplotlib.lines.Line2D at 0x7a6af03b9450>]"
            ]
          },
          "metadata": {},
          "execution_count": 22
        },
        {
          "output_type": "display_data",
          "data": {
            "text/plain": [
              "<Figure size 640x480 with 1 Axes>"
            ],
            "image/png": "[encoded data removed]"
          },
          "metadata": {}
        }
      ],
      "source": [
        "plt.plot(torch.tensor(losses).log10())"
      ]
    },
    {
      "cell_type": "markdown",
      "metadata": {
        "id": "a-_ZsKpD514K"
      },
      "source": [
        "We can see that the train and validation losses are both improvements over our results in lecture:"
      ]
    },
    {
      "cell_type": "code",
      "execution_count": 23,
      "metadata": {
        "id": "eiQrS2wZ514K"
      },
      "outputs": [],
      "source": [
        "def evaluate(x, y, parameters):\n",
        "    logits = forward(x, parameters)\n",
        "    loss = torch.nn.functional.cross_entropy(logits, y)\n",
        "    return loss.item()"
      ]
    },
    {
      "cell_type": "code",
      "execution_count": 24,
      "metadata": {
        "colab": {
          "base_uri": "https://localhost:8080/"
        },
        "id": "8umeF6kN514K",
        "outputId": "2cc13ecd-3c2c-4300-9f82-5e5f77a550f1"
      },
      "outputs": [
        {
          "output_type": "execute_result",
          "data": {
            "text/plain": [
              "2.1336007118225098"
            ]
          },
          "metadata": {},
          "execution_count": 24
        }
      ],
      "source": [
        "evaluate(X_train, Y_train, parameters)"
      ]
    },
    {
      "cell_type": "code",
      "execution_count": 25,
      "metadata": {
        "colab": {
          "base_uri": "https://localhost:8080/"
        },
        "id": "7h3SarR5514K",
        "outputId": "665ab40d-569f-465e-b84a-51e2744beb81"
      },
      "outputs": [
        {
          "output_type": "execute_result",
          "data": {
            "text/plain": [
              "2.1923234462738037"
            ]
          },
          "metadata": {},
          "execution_count": 25
        }
      ],
      "source": [
        "evaluate(X_dev, Y_dev, parameters)"
      ]
    },
    {
      "cell_type": "markdown",
      "metadata": {
        "id": "HxRro2QH514K"
      },
      "source": [
        "Finally, when we try the data on the test set, we acheive a similar result to validation. (If we hadn't we may have accidentally overfit to the validation set via tuning hyperparameters.)"
      ]
    },
    {
      "cell_type": "code",
      "execution_count": 26,
      "metadata": {
        "colab": {
          "base_uri": "https://localhost:8080/"
        },
        "id": "OA6waxmN514K",
        "outputId": "d7d56e94-9bcc-4923-cfff-b0073929b9dd"
      },
      "outputs": [
        {
          "output_type": "execute_result",
          "data": {
            "text/plain": [
              "2.184178113937378"
            ]
          },
          "metadata": {},
          "execution_count": 26
        }
      ],
      "source": [
        "evaluate(X_test, Y_test, parameters)"
      ]
    },
    {
      "cell_type": "markdown",
      "metadata": {
        "id": "0LmOc57B514K"
      },
      "source": [
        "We can generate some names with the trained model to verify the model works well:\n",
        "\n",
        "I added some features to the generate function that allows the user to specify a minimum and maximum length!"
      ]
    },
    {
      "cell_type": "code",
      "execution_count": 27,
      "metadata": {
        "id": "47kIxEzT514K"
      },
      "outputs": [],
      "source": [
        "def generate(parameters, block_size, min_chars=3, max_chars=20):\n",
        "    C, W1, b1, W2, b2 = parameters\n",
        "    context = [0] * block_size\n",
        "    out = []\n",
        "    for i in range(max_chars):\n",
        "        logits = forward(torch.tensor([context]), parameters)\n",
        "        probs = torch.nn.functional.softmax(logits, dim=1)\n",
        "        if i < min_chars:\n",
        "            probs[0, 0] = 0\n",
        "        ix = torch.multinomial(probs, 1).item()\n",
        "        if ix == 0:\n",
        "            break\n",
        "        out.append(itos[ix])\n",
        "        context = context[1:] + [ix]\n",
        "\n",
        "    return ''.join(out)"
      ]
    },
    {
      "cell_type": "code",
      "execution_count": 28,
      "metadata": {
        "colab": {
          "base_uri": "https://localhost:8080/"
        },
        "id": "lQPtH81Y514K",
        "outputId": "34b3095f-5afd-4d0d-f97d-37cda27b2b49"
      },
      "outputs": [
        {
          "output_type": "stream",
          "name": "stdout",
          "text": [
            "arso\n",
            "onitlyn\n",
            "amiliah\n",
            "khagy\n",
            "masia\n",
            "sur\n",
            "kenikona\n",
            "brie\n",
            "fazoli\n",
            "raylon\n",
            "dysceld\n",
            "beyliah\n",
            "aayven\n",
            "ario\n",
            "taman\n",
            "abitabron\n",
            "imley\n",
            "herraelan\n",
            "duccaar\n",
            "simanahsin\n"
          ]
        }
      ],
      "source": [
        "for i in range(20):\n",
        "    print(generate(parameters, 3))"
      ]
    },
    {
      "cell_type": "markdown",
      "metadata": {
        "id": "AvqM98yD514K"
      },
      "source": [
        "For fun, we can try to generate some really long names:\n"
      ]
    },
    {
      "cell_type": "code",
      "execution_count": 29,
      "metadata": {
        "colab": {
          "base_uri": "https://localhost:8080/"
        },
        "id": "uHkdyLsP514K",
        "outputId": "493b1b7c-d728-4c44-a8cd-8508a7afcf29"
      },
      "outputs": [
        {
          "output_type": "stream",
          "name": "stdout",
          "text": [
            "korielleyani\n",
            "nassinanieneen\n",
            "zaxreimaniah\n",
            "neenaredeman\n",
            "colenisanish\n",
            "camaizaleena\n",
            "greneusiahar\n",
            "faizleeniacotn\n",
            "jalidynneeaj\n",
            "thgotturtleit\n",
            "huanaleeshaycent\n",
            "kaidardonalee\n",
            "julyvinthive\n",
            "ondennalungrennaymalu\n",
            "neighlynnlee\n",
            "keusynleighorathira\n",
            "morionancess\n",
            "zoenneyarthovajth\n",
            "lyleighliviannaleightare\n",
            "cashaxtaebuble\n"
          ]
        }
      ],
      "source": [
        "for i in range(20):\n",
        "    print(generate(parameters, 3, min_chars=12, max_chars=40))"
      ]
    },
    {
      "cell_type": "markdown",
      "metadata": {
        "id": "PzxbxQpl514K"
      },
      "source": [
        "### E02:\n",
        "#### *I was not careful with the intialization of the network in this video. (1) What is the loss you'd get if the predicted probabilities at initialization were perfectly uniform? What loss do we achieve? (2) Can you tune the initialization to get a starting loss that is much more similar to (1)?*"
      ]
    },
    {
      "cell_type": "markdown",
      "metadata": {
        "id": "8C5tiISE514K"
      },
      "source": [
        "If the predicted probabilities were perfectly uniform, per the log-likelihood formula the loss would be -log(1/27), given a dataset with 27 characters."
      ]
    },
    {
      "cell_type": "markdown",
      "metadata": {
        "id": "SatgjLNi514L"
      },
      "source": [
        "We can verify that this is the case:"
      ]
    },
    {
      "cell_type": "code",
      "execution_count": 30,
      "metadata": {
        "colab": {
          "base_uri": "https://localhost:8080/"
        },
        "id": "nsN9oWi-514L",
        "outputId": "0c73a160-3d27-40a5-cfc1-9b0e2cc567f4"
      },
      "outputs": [
        {
          "output_type": "execute_result",
          "data": {
            "text/plain": [
              "tensor(18)"
            ]
          },
          "metadata": {},
          "execution_count": 30
        }
      ],
      "source": [
        "y_actual = Y_train[0]\n",
        "y_actual"
      ]
    },
    {
      "cell_type": "code",
      "execution_count": 31,
      "metadata": {
        "colab": {
          "base_uri": "https://localhost:8080/"
        },
        "id": "QIpwLAvz514L",
        "outputId": "7e2f271e-c3db-460c-88a6-77d31beabd6f"
      },
      "outputs": [
        {
          "output_type": "execute_result",
          "data": {
            "text/plain": [
              "tensor([0.0370, 0.0370, 0.0370, 0.0370, 0.0370, 0.0370, 0.0370, 0.0370, 0.0370,\n",
              "        0.0370, 0.0370, 0.0370, 0.0370, 0.0370, 0.0370, 0.0370, 0.0370, 0.0370,\n",
              "        0.0370, 0.0370, 0.0370, 0.0370, 0.0370, 0.0370, 0.0370, 0.0370, 0.0370])"
            ]
          },
          "metadata": {},
          "execution_count": 31
        }
      ],
      "source": [
        "logits = torch.ones(27).divide(27)\n",
        "logits"
      ]
    },
    {
      "cell_type": "markdown",
      "metadata": {
        "id": "JTdv9k_s514L"
      },
      "source": [
        "We'd also apply a softmax activation, but it results in the exact same logits if the logits are all the same."
      ]
    },
    {
      "cell_type": "code",
      "execution_count": 32,
      "metadata": {
        "colab": {
          "base_uri": "https://localhost:8080/"
        },
        "id": "nojuXWoV514L",
        "outputId": "5b4326a5-09d1-4910-d397-13304e379641"
      },
      "outputs": [
        {
          "output_type": "execute_result",
          "data": {
            "text/plain": [
              "tensor([0.0370, 0.0370, 0.0370, 0.0370, 0.0370, 0.0370, 0.0370, 0.0370, 0.0370,\n",
              "        0.0370, 0.0370, 0.0370, 0.0370, 0.0370, 0.0370, 0.0370, 0.0370, 0.0370,\n",
              "        0.0370, 0.0370, 0.0370, 0.0370, 0.0370, 0.0370, 0.0370, 0.0370, 0.0370])"
            ]
          },
          "metadata": {},
          "execution_count": 32
        }
      ],
      "source": [
        "torch.nn.functional.softmax(logits, dim=0)"
      ]
    },
    {
      "cell_type": "markdown",
      "metadata": {
        "id": "hUSLekF2514L"
      },
      "source": [
        "So it really doesn't matter what value the weights hold. However, the tanh activation is more informative when values are close to zero, so we should strive to keep the weights closer to zero (rather than say, initialize them all to 10000000)."
      ]
    },
    {
      "cell_type": "code",
      "execution_count": 33,
      "metadata": {
        "colab": {
          "base_uri": "https://localhost:8080/"
        },
        "id": "xtS4k5-m514L",
        "outputId": "016bfae5-b4a1-435b-8e24-5e9ad2895d4d"
      },
      "outputs": [
        {
          "output_type": "execute_result",
          "data": {
            "text/plain": [
              "tensor(3.2958)"
            ]
          },
          "metadata": {},
          "execution_count": 33
        }
      ],
      "source": [
        "torch.nn.functional.cross_entropy(logits, y_actual)"
      ]
    },
    {
      "cell_type": "code",
      "execution_count": 34,
      "metadata": {
        "colab": {
          "base_uri": "https://localhost:8080/"
        },
        "id": "QugOimk3514L",
        "outputId": "055fb6a6-aa8c-4f4b-d77d-678a51524874"
      },
      "outputs": [
        {
          "output_type": "execute_result",
          "data": {
            "text/plain": [
              "3.295836866004329"
            ]
          },
          "metadata": {},
          "execution_count": 34
        }
      ],
      "source": [
        "import math\n",
        "-math.log(1/27)"
      ]
    },
    {
      "cell_type": "markdown",
      "metadata": {
        "id": "7eh70Uj8514L"
      },
      "source": [
        "Our starting loss is much higher (~23!). To acheive a similar loss, we could make every weight and bias uniform across layers throughout the network. Before, we sampled weights between 0 and 1. To acheive a starting loss of -log(1/27), we can initialize them all to the same value, 0.5 sounds appropriate given that it's in the center of our previous distribution.\n"
      ]
    },
    {
      "cell_type": "code",
      "execution_count": 35,
      "metadata": {
        "id": "jvvFUtRp514L"
      },
      "outputs": [],
      "source": [
        "def init_parameters(num_chars, block_size, embedding_size, hidden_layer_size):\n",
        "    C = torch.full((num_chars, embedding_size), 0.5, requires_grad=True)\n",
        "    W1 = torch.full((embedding_size * block_size, hidden_layer_size), 0.5, requires_grad=True)\n",
        "    b1 = torch.full((hidden_layer_size,), 0.5, requires_grad=True)\n",
        "    W2 = torch.full((hidden_layer_size, num_chars), 0.5, requires_grad=True)\n",
        "    b2 = torch.full((num_chars,), 0.5, requires_grad=True)\n",
        "\n",
        "    return [C, W1, b1, W2, b2]"
      ]
    },
    {
      "cell_type": "code",
      "execution_count": 36,
      "metadata": {
        "id": "wgXH2tBW514L"
      },
      "outputs": [],
      "source": [
        "new_parameters = init_parameters(num_chars, block_size, emb_size, hidden_layer_size)"
      ]
    },
    {
      "cell_type": "code",
      "execution_count": 37,
      "metadata": {
        "colab": {
          "base_uri": "https://localhost:8080/"
        },
        "id": "NHJENzJE514L",
        "outputId": "ac586c52-983d-42d6-d013-1a246707953e"
      },
      "outputs": [
        {
          "output_type": "execute_result",
          "data": {
            "text/plain": [
              "tensor([[0.5000, 0.5000, 0.5000, 0.5000, 0.5000, 0.5000, 0.5000, 0.5000, 0.5000,\n",
              "         0.5000],\n",
              "        [0.5000, 0.5000, 0.5000, 0.5000, 0.5000, 0.5000, 0.5000, 0.5000, 0.5000,\n",
              "         0.5000],\n",
              "        [0.5000, 0.5000, 0.5000, 0.5000, 0.5000, 0.5000, 0.5000, 0.5000, 0.5000,\n",
              "         0.5000]], grad_fn=<SliceBackward0>)"
            ]
          },
          "metadata": {},
          "execution_count": 37
        }
      ],
      "source": [
        "new_parameters[0][:3]"
      ]
    },
    {
      "cell_type": "markdown",
      "metadata": {
        "id": "rf-JFTlR514L"
      },
      "source": [
        "And we can verify that we acheive the desired starting loss:"
      ]
    },
    {
      "cell_type": "code",
      "execution_count": 38,
      "metadata": {
        "colab": {
          "base_uri": "https://localhost:8080/"
        },
        "id": "qgNcldFe514L",
        "outputId": "7918ce91-24f1-4eb2-ec70-99872d58c5fa"
      },
      "outputs": [
        {
          "output_type": "execute_result",
          "data": {
            "text/plain": [
              "3.29583740234375"
            ]
          },
          "metadata": {},
          "execution_count": 38
        }
      ],
      "source": [
        "evaluate(X_train, Y_train, new_parameters)"
      ]
    },
    {
      "cell_type": "markdown",
      "metadata": {
        "id": "Xma4XVTn514M"
      },
      "source": [
        "### E03:\n",
        "#### *Read the Bengio et al 2003 paper (link above), implement and try any idea from the paper. Did it work?*"
      ]
    },
    {
      "cell_type": "markdown",
      "metadata": {
        "id": "W59TDBB0514M"
      },
      "source": [
        "One idea we could try from the paper is mixing n-gram (in this case, trigram) probabilities with the neural network probabilities to get a final probability, s.t. with each probability having a weight of 0.5. In their results, the network consistently performed better with this technique. The authors suggested that this suggests that the trigram and neural network models tend to make errors in different places.\n",
        "\n",
        "To acheive this, we can first instantiate and populate a trigram matrix. It's probably prudent just to compute this on the training dataset rather than the entire dataset."
      ]
    },
    {
      "cell_type": "code",
      "execution_count": 39,
      "metadata": {
        "id": "nDJmUk9V514M"
      },
      "outputs": [],
      "source": [
        "trigrams = torch.zeros((27 * 27), 27)\n",
        "\n",
        "for word in train_words:\n",
        "    ids = ([0] * (block_size - 1)) + [stoi[c] for c in word] + [0]\n",
        "    for i in range(len(ids) - 2):\n",
        "        trigrams[(ids[i] * 27) + ids[i + 1], ids[i + 2]] += 1\n",
        "\n",
        "trigrams = (trigrams / trigrams.sum(dim=1, keepdim=True)).nan_to_num(nan=0.0)"
      ]
    },
    {
      "cell_type": "markdown",
      "metadata": {
        "id": "3cxVSMZS514M"
      },
      "source": [
        "Next, we can update the evaluation function to average the network output and the trigram output."
      ]
    },
    {
      "cell_type": "code",
      "execution_count": 40,
      "metadata": {
        "id": "s_i16Hm9514M"
      },
      "outputs": [],
      "source": [
        "def evaluate(x, y, parameters, trigrams):\n",
        "    logits = forward(x, parameters)\n",
        "    preds = (torch.softmax(logits, dim=1) * 0.5) + (torch.softmax(trigrams[x[:, 1] * 27 + x[:, 2]], dim=1) * 0.5)\n",
        "    loss = -preds[torch.arange(y.shape[0]), y].log().mean()\n",
        "\n",
        "    return loss.item()"
      ]
    },
    {
      "cell_type": "code",
      "execution_count": 41,
      "metadata": {
        "colab": {
          "base_uri": "https://localhost:8080/"
        },
        "id": "_7fYuF3q514M",
        "outputId": "e828982f-80dd-4718-d43d-805228c0f9a6"
      },
      "outputs": [
        {
          "output_type": "execute_result",
          "data": {
            "text/plain": [
              "2.39650559425354"
            ]
          },
          "metadata": {},
          "execution_count": 41
        }
      ],
      "source": [
        "evaluate(X_train, Y_train, parameters, trigrams)"
      ]
    },
    {
      "cell_type": "code",
      "execution_count": 42,
      "metadata": {
        "colab": {
          "base_uri": "https://localhost:8080/"
        },
        "id": "bpr9n4wv514M",
        "outputId": "7b44eb3a-36f7-4ea3-df97-5fd3862f02ba"
      },
      "outputs": [
        {
          "output_type": "execute_result",
          "data": {
            "text/plain": [
              "2.423555612564087"
            ]
          },
          "metadata": {},
          "execution_count": 42
        }
      ],
      "source": [
        "evaluate(X_dev, Y_dev, parameters, trigrams)"
      ]
    },
    {
      "cell_type": "markdown",
      "metadata": {
        "id": "d5s108U-514M"
      },
      "source": [
        "This technique does not improve our model's performance. Perhaps this technique tends to work better on word-level models like in the paper rather than character-level models -- perhaps because the embeddings needed to properly represent a letter are much simpler than those for a word, meaning that ensambling our neural network with the trigram model does not compensate for any of the neural network's error."
      ]
    },
    {
      "cell_type": "markdown",
      "metadata": {
        "id": "mJbEOTG8514M"
      },
      "source": [
        "We could also try introducing the trigram mixing into our training loop, but I am skeptical:"
      ]
    },
    {
      "cell_type": "code",
      "execution_count": 43,
      "metadata": {
        "id": "b1ciHSfW514M"
      },
      "outputs": [],
      "source": [
        "def optimize_step(x, y, parameters, trigrams, lr=0.1):\n",
        "    logits = forward(x, parameters)\n",
        "    preds = (torch.softmax(logits, dim=1) * 0.5) + (torch.softmax(trigrams[x[:, 1] * 27 + x[:, 2]], dim=1) * 0.5)\n",
        "    loss = -preds[torch.arange(y.shape[0]), y].log().mean()\n",
        "    loss.backward()\n",
        "    for p in parameters:\n",
        "        p.data -= p.grad * lr\n",
        "        p.grad = None\n",
        "    return loss.item()\n",
        "\n",
        "def gradient_descent(x, y, parameters, trigrams, iterations=100, minibatch_size=100, lr=0.1, lr_decay=0.001, regularization=0.01, print_every=10):\n",
        "    losses = []\n",
        "    for i in range(iterations):\n",
        "        batch_indices = torch.randint(0, x.shape[0], (minibatch_size,))\n",
        "        xi = x[batch_indices]\n",
        "        yi = y[batch_indices]\n",
        "        reg_term = torch.sum(torch.stack([(p**2).sum() for p in parameters])).divide(torch.sum(torch.tensor([p.numel() for p in parameters]))) * regularization\n",
        "        loss = optimize_step(xi, yi, parameters, trigrams, lr) + reg_term\n",
        "        losses.append(loss)\n",
        "        if i % print_every == 0:\n",
        "            print(f'Iteration {i} loss: {loss}')\n",
        "        lr = lr * (1 - lr_decay)\n",
        "    return losses\n",
        ""
      ]
    },
    {
      "cell_type": "code",
      "execution_count": 44,
      "metadata": {
        "colab": {
          "base_uri": "https://localhost:8080/"
        },
        "id": "F9KOH-8Q514M",
        "outputId": "a72336d8-a990-4393-85b6-956f7c75942a"
      },
      "outputs": [
        {
          "output_type": "stream",
          "name": "stdout",
          "text": [
            "Iteration 0 loss: 3.2355258464813232\n",
            "Iteration 10000 loss: 2.9912023544311523\n",
            "Iteration 20000 loss: 2.890807867050171\n",
            "Iteration 30000 loss: 2.9454662799835205\n",
            "Iteration 40000 loss: 2.779658317565918\n",
            "Iteration 50000 loss: 2.953145742416382\n",
            "Iteration 60000 loss: 2.850191354751587\n",
            "Iteration 70000 loss: 2.913511276245117\n",
            "Iteration 80000 loss: 2.838305711746216\n",
            "Iteration 90000 loss: 2.9425413608551025\n",
            "Iteration 100000 loss: 2.8394775390625\n",
            "Iteration 110000 loss: 2.8571293354034424\n",
            "Iteration 120000 loss: 2.822970151901245\n",
            "Iteration 130000 loss: 2.7861061096191406\n",
            "Iteration 140000 loss: 2.9053704738616943\n",
            "Iteration 150000 loss: 2.9254987239837646\n",
            "Iteration 160000 loss: 2.792872190475464\n",
            "Iteration 170000 loss: 2.907606363296509\n",
            "Iteration 180000 loss: 2.861936330795288\n",
            "Iteration 190000 loss: 2.8617069721221924\n",
            "Iteration 200000 loss: 2.7407641410827637\n",
            "Iteration 210000 loss: 2.8845911026000977\n",
            "Iteration 220000 loss: 2.837003231048584\n",
            "Iteration 230000 loss: 2.897488832473755\n",
            "Iteration 240000 loss: 2.7507314682006836\n",
            "Iteration 250000 loss: 2.8233981132507324\n",
            "Iteration 260000 loss: 2.8921103477478027\n",
            "Iteration 270000 loss: 2.8000874519348145\n",
            "Iteration 280000 loss: 2.8504042625427246\n",
            "Iteration 290000 loss: 2.7842750549316406\n"
          ]
        }
      ],
      "source": [
        "new_parameters = init_parameters(num_chars, block_size, emb_size, hidden_layer_size)\n",
        "losses = gradient_descent(X_train, Y_train, new_parameters, trigrams, iterations=300000, minibatch_size=128, lr=0.2, lr_decay=0.00002, regularization=0.01, print_every=10000)"
      ]
    },
    {
      "cell_type": "markdown",
      "metadata": {
        "id": "KdH5s8Q-514M"
      },
      "source": [
        "After many iterations with no signs of life, I decided to stop training early."
      ]
    },
    {
      "cell_type": "code",
      "execution_count": 45,
      "metadata": {
        "id": "lzYyEgOi514M"
      },
      "outputs": [],
      "source": [
        "import random\n",
        "import torch\n",
        "import numpy as np\n",
        "import matplotlib.pyplot as plt"
      ]
    },
    {
      "cell_type": "markdown",
      "metadata": {
        "id": "V1m8Izc5514M"
      },
      "source": [
        "#### E04:\n",
        "I did not get around to seeing what happens when you initialize all weights and biases to zero. Try this and train the neural net.\n",
        "You might think either that\n",
        "1) the network trains just fine or\n",
        "2) the network doesn't train at all\n",
        "\n",
        "but actually it is:\n",
        "\n",
        "the network trains but only partially, and achieves a pretty bad final performance. Inspect the gradients and activations to figure out what is happening and why the network is only partially training, and what part is being trained exactly."
      ]
    },
    {
      "cell_type": "markdown",
      "metadata": {
        "id": "WAeNAEd4514M"
      },
      "source": [
        "We can start by modifying our Linear Module to initialize its weights and biases to zeros:"
      ]
    },
    {
      "cell_type": "code",
      "execution_count": 46,
      "metadata": {
        "id": "SfFykN2Y514N"
      },
      "outputs": [],
      "source": [
        "class Linear:\n",
        "    def __init__(self, fan_in, fan_out, bias=True) -> None:\n",
        "        self.weights = torch.zeros((fan_in, fan_out))\n",
        "        self.bias = torch.zeros(fan_out) if bias else None\n",
        "\n",
        "    def __call__(self, x): # 'forward'\n",
        "        self.out = x @ self.weights\n",
        "        if self.bias is not None:\n",
        "            self.out += self.bias\n",
        "        return self.out\n",
        "\n",
        "    def parameters(self):\n",
        "        return [self.weights, self.bias] if self.bias is not None else [self.weights]\n",
        "\n",
        "class Tanh:\n",
        "    def __init__(self) -> None:\n",
        "        pass\n",
        "\n",
        "    def __call__(self, x):\n",
        "        self.out = x.tanh()\n",
        "        return self.out\n",
        "\n",
        "    def parameters(self):\n",
        "        return []"
      ]
    },
    {
      "cell_type": "markdown",
      "metadata": {
        "id": "bzHG6JhD514N"
      },
      "source": [
        "Next we can construct a network and inspect the gradients and activations:"
      ]
    },
    {
      "cell_type": "code",
      "execution_count": 48,
      "metadata": {
        "id": "D5mOt3Gl514N"
      },
      "outputs": [],
      "source": [
        "# dataset stuff\n",
        "\n",
        "words = open('names.txt').read().splitlines()\n",
        "chars = ['.'] + sorted(list(set(''.join(words))))\n",
        "stoi = {c:i for i,c in enumerate(chars)}\n",
        "itos = {i:c for i,c in enumerate(chars)}\n",
        "\n",
        "def build_inputs_and_labels(words, block_size):\n",
        "    X, Y = [], []\n",
        "    for w in words:\n",
        "        context = [0] * block_size\n",
        "        for c in w + '.':\n",
        "            ix = stoi[c]\n",
        "            X.append(context)\n",
        "            Y.append(ix)\n",
        "            context = context[1:] + [ix]\n",
        "\n",
        "    X = torch.tensor(X)\n",
        "    Y = torch.tensor(Y)\n",
        "    return X, Y\n",
        "\n",
        "def train_dev_test_split(words, train_size=0.8, dev_size=0.1):\n",
        "    random.shuffle(words)\n",
        "    assert train_size + dev_size < 1\n",
        "    num_words = len(words)\n",
        "    train_split = int(num_words * train_size)\n",
        "    dev_split = int(num_words * (train_size + dev_size))\n",
        "    train_words = words[:train_split]\n",
        "    dev_words = words[train_split:dev_split]\n",
        "    test_words = words[dev_split:]\n",
        "    return train_words, dev_words, test_words\n",
        "\n",
        "\n",
        "train_words, dev_words, test_words = train_dev_test_split(words)\n",
        "block_size = 3\n",
        "embedding_size = 10\n",
        "hidden_layer_size = 100\n",
        "num_chars = len(chars)\n",
        "train_X, train_Y = build_inputs_and_labels(train_words, block_size=3)"
      ]
    },
    {
      "cell_type": "code",
      "execution_count": 49,
      "metadata": {
        "colab": {
          "base_uri": "https://localhost:8080/"
        },
        "id": "o1CFAB3p514N",
        "outputId": "c8d207da-d2cb-4bc1-8c79-6d96455c03da"
      },
      "outputs": [
        {
          "output_type": "stream",
          "name": "stdout",
          "text": [
            "Number of Parameters: 46497\n"
          ]
        }
      ],
      "source": [
        "embeddings = torch.randn((num_chars, embedding_size))\n",
        "layers = [\n",
        "    Linear(embedding_size * block_size, hidden_layer_size),\n",
        "    Tanh(),\n",
        "    Linear(hidden_layer_size, hidden_layer_size),\n",
        "    Tanh(),\n",
        "    Linear(hidden_layer_size, hidden_layer_size),\n",
        "    Tanh(),\n",
        "    Linear(hidden_layer_size, hidden_layer_size),\n",
        "    Tanh(),\n",
        "    Linear(hidden_layer_size, hidden_layer_size),\n",
        "    Tanh(),\n",
        "    Linear(hidden_layer_size, num_chars)\n",
        "]\n",
        "\n",
        "parameters = [embeddings] + [p for layer in layers for p in layer.parameters()]\n",
        "print(f'Number of Parameters: {sum(p.numel() for p in parameters)}')\n",
        "for p in parameters:\n",
        "    p.requires_grad = True"
      ]
    },
    {
      "cell_type": "markdown",
      "metadata": {
        "id": "AEKvSm-I514N"
      },
      "source": [
        "Next, we can try running gradient descent for a few iterations to see what our gradients and activations look like using the techniques from lecture:"
      ]
    },
    {
      "cell_type": "code",
      "execution_count": 50,
      "metadata": {
        "id": "ChBWSrdl514N"
      },
      "outputs": [],
      "source": [
        "def forward(layers, embeddings, x):\n",
        "    x = embeddings[x]\n",
        "    x = x.view(x.shape[0], -1)\n",
        "    for layer in layers:\n",
        "        x = layer(x)\n",
        "    return x\n",
        "\n",
        "def optimize_step(x, y, layers, embeddings, parameters, lr, debug=False):\n",
        "    for p in parameters:\n",
        "        p.grad = None\n",
        "    logits = forward(layers, embeddings, x)\n",
        "    loss = torch.nn.functional.cross_entropy(logits, y)\n",
        "\n",
        "    if debug:\n",
        "        for layer in layers:\n",
        "            layer.out.retain_grad()\n",
        "    loss.backward()\n",
        "    for p in parameters:\n",
        "        p.data -= p.grad * lr\n",
        "\n",
        "    return loss.item()\n",
        "\n",
        "def gradient_descent(x, y, layers, embeddings, parameters, iterations, minibatch_size, lr, lr_decay, print_every, debug=False):\n",
        "    losses = []\n",
        "    ud = []\n",
        "    for i in range(iterations):\n",
        "        batch_indices = torch.randint(0, x.shape[0], (minibatch_size,))\n",
        "        xi = x[batch_indices]\n",
        "        yi = y[batch_indices]\n",
        "        loss = optimize_step(xi, yi, layers, embeddings, parameters, lr, debug)\n",
        "        losses.append(loss)\n",
        "        with torch.no_grad():\n",
        "            ud.append([(lr * p.grad.std() / p.data.std()).log().item() for p in parameters])\n",
        "        if i % print_every == 0:\n",
        "            print(f'Iteration {i} loss: {loss}')\n",
        "        lr *= (1 - lr_decay)\n",
        "    return losses, ud"
      ]
    },
    {
      "cell_type": "code",
      "execution_count": 51,
      "metadata": {
        "colab": {
          "base_uri": "https://localhost:8080/"
        },
        "id": "bNC4-NsS514N",
        "outputId": "fbf575de-ee8b-4d8e-ef31-55e3e304e1f3"
      },
      "outputs": [
        {
          "output_type": "stream",
          "name": "stdout",
          "text": [
            "Iteration 0 loss: 3.295837163925171\n"
          ]
        }
      ],
      "source": [
        "losses, ud = gradient_descent(train_X, train_Y, layers, embeddings, parameters, iterations=1000, minibatch_size=128, lr=0.2, lr_decay=0.00002, print_every=10000, debug=True)"
      ]
    },
    {
      "cell_type": "markdown",
      "metadata": {
        "id": "X5CSr6bX514N"
      },
      "source": [
        "We can see our loss decreases over the first few iterations, but does not converge to a value as low as other iterations of our model have converged to:"
      ]
    },
    {
      "cell_type": "code",
      "execution_count": 52,
      "metadata": {
        "colab": {
          "base_uri": "https://localhost:8080/",
          "height": 430
        },
        "id": "A-UuOhyZ514N",
        "outputId": "cd37c378-7fd4-41a6-c13a-78aa4ed97f43"
      },
      "outputs": [
        {
          "output_type": "display_data",
          "data": {
            "text/plain": [
              "<Figure size 640x480 with 1 Axes>"
            ],
            "image/png": "[encoded data removed]"
          },
          "metadata": {}
        }
      ],
      "source": [
        "plt.plot(torch.tensor(losses).log10())\n",
        "plt.show()"
      ]
    },
    {
      "cell_type": "markdown",
      "metadata": {
        "id": "rAB-x50E514N"
      },
      "source": [
        "Let's figure out why our model is not training as well. To start, we can look at the activations coming out of each tanh layer, just as we did in lecture:"
      ]
    },
    {
      "cell_type": "code",
      "execution_count": 53,
      "metadata": {
        "colab": {
          "base_uri": "https://localhost:8080/",
          "height": 359
        },
        "id": "tsWK_FXg514N",
        "outputId": "5047cdf9-2d99-4b7d-b5d2-97a9bbf6ecbd"
      },
      "outputs": [
        {
          "output_type": "stream",
          "name": "stdout",
          "text": [
            "Layer 1 mean=+0.00, stddev=0.00, saturation=0.00%\n",
            "Layer 3 mean=+0.00, stddev=0.00, saturation=0.00%\n",
            "Layer 5 mean=+0.00, stddev=0.00, saturation=0.00%\n",
            "Layer 7 mean=+0.00, stddev=0.00, saturation=0.00%\n",
            "Layer 9 mean=+0.00, stddev=0.00, saturation=0.00%\n"
          ]
        },
        {
          "output_type": "display_data",
          "data": {
            "text/plain": [
              "<Figure size 2000x400 with 1 Axes>"
            ],
            "image/png": "[encoded data removed]"
          },
          "metadata": {}
        }
      ],
      "source": [
        "plt.figure(figsize=(20, 4))\n",
        "legends = []\n",
        "for i, layer in enumerate(layers[:-1]):\n",
        "    if isinstance(layer, Tanh):\n",
        "        t = layer.out\n",
        "        print(\n",
        "            f'Layer {i} mean={t.mean():+.2f}, stddev={t.std():.2f}, saturation={(t.abs() > 0.97).float().mean()*100:.2f}%'\n",
        "        )\n",
        "        hy, hx = torch.histogram(t, density=True)\n",
        "        plt.plot(hx[:-1].detach(), hy.detach())\n",
        "        legends.append(f'layer {i} ({layer.__class__.__name__})')\n",
        "plt.legend(legends)\n",
        "plt.title('activation distributions')\n",
        "plt.show()"
      ]
    },
    {
      "cell_type": "markdown",
      "metadata": {
        "id": "u3ONuBJ6514N"
      },
      "source": [
        "We can see that every single activation is zero... no wonder our network is not training well. But if all the tanh activations are zero, how is our network training at all? We did see loss go down, so something must be happening in the final layer."
      ]
    },
    {
      "cell_type": "code",
      "execution_count": 54,
      "metadata": {
        "colab": {
          "base_uri": "https://localhost:8080/",
          "height": 288
        },
        "id": "-1YxSG7d514O",
        "outputId": "b8588daf-7783-4343-867a-447702cbfb74"
      },
      "outputs": [
        {
          "output_type": "stream",
          "name": "stdout",
          "text": [
            "Layer 9 mean=+0.00, stddev=0.00, saturation=0.00%\n"
          ]
        },
        {
          "output_type": "display_data",
          "data": {
            "text/plain": [
              "<Figure size 2000x400 with 1 Axes>"
            ],
            "image/png": "[encoded data removed]"
          },
          "metadata": {}
        }
      ],
      "source": [
        "plt.figure(figsize=(20, 4))\n",
        "legends = []\n",
        "t = layer.out\n",
        "hy, hx = torch.histogram(t, density=True)\n",
        "plt.plot(hx[:-1].detach(), hy.detach())\n",
        "legends.append(f'layer {i} ({layer.__class__.__name__})')\n",
        "print(\n",
        "    f'Layer {i} mean={t.mean():+.2f}, stddev={t.std():.2f}, saturation={(t.abs() > 0.97).float().mean()*100:.2f}%'\n",
        ")\n",
        "plt.legend(legends)\n",
        "plt.title('activation distribution')\n",
        "plt.show()"
      ]
    },
    {
      "cell_type": "markdown",
      "metadata": {
        "id": "tp4-d4_i514O"
      },
      "source": [
        "We do see activations in this layer... let's check the gradients to get a better idea of what's going on:"
      ]
    },
    {
      "cell_type": "code",
      "execution_count": 55,
      "metadata": {
        "colab": {
          "base_uri": "https://localhost:8080/",
          "height": 448
        },
        "id": "BKw6-HDG514O",
        "outputId": "0bd4a2d9-c3cf-4ecf-c675-8a6b6d35185a"
      },
      "outputs": [
        {
          "output_type": "stream",
          "name": "stdout",
          "text": [
            "weight shape=torch.Size([100, 27]) mean=+0.00000, stddev=0.00000, grad:data ratio=nan\n"
          ]
        },
        {
          "output_type": "display_data",
          "data": {
            "text/plain": [
              "<Figure size 640x480 with 1 Axes>"
            ],
            "image/png": "[encoded data removed]"
          },
          "metadata": {}
        }
      ],
      "source": [
        "final_layer_weights, final_layer_bias = parameters[-2], parameters[-1]\n",
        "t = final_layer_weights.grad\n",
        "print(f'weight shape={final_layer_weights.shape} mean={t.mean():+.5f}, stddev={t.std():.5f}, grad:data ratio={(t.std() / final_layer_weights.std()):.5f}')\n",
        "hy, hx = torch.histogram(t, density=True)\n",
        "plt.plot(hx[:-1].detach(), hy.detach())\n",
        "legends.append(f'{i} {tuple(final_layer_weights.shape)}')\n"
      ]
    },
    {
      "cell_type": "markdown",
      "metadata": {
        "id": "gulLFaWR514O"
      },
      "source": [
        "The layer's weights all have zero gradient, so something *must* be going on with the bias parameters..."
      ]
    },
    {
      "cell_type": "code",
      "execution_count": 56,
      "metadata": {
        "colab": {
          "base_uri": "https://localhost:8080/",
          "height": 448
        },
        "id": "lmsJqdql514O",
        "outputId": "729c3a4e-340d-43f0-b500-82e6206d5b9f"
      },
      "outputs": [
        {
          "output_type": "stream",
          "name": "stdout",
          "text": [
            "weight shape=torch.Size([27]) mean=-0.00000, stddev=0.01557, grad:data ratio=0.01510\n"
          ]
        },
        {
          "output_type": "display_data",
          "data": {
            "text/plain": [
              "<Figure size 640x480 with 1 Axes>"
            ],
            "image/png": "[encoded data removed]"
          },
          "metadata": {}
        }
      ],
      "source": [
        "t = final_layer_bias.grad\n",
        "print(f'weight shape={final_layer_bias.shape} mean={t.mean():+.5f}, stddev={t.std():.5f}, grad:data ratio={(t.std() / final_layer_bias.std()):.5f}')\n",
        "hy, hx = torch.histogram(t, density=True)\n",
        "plt.plot(hx[:-1].detach(), hy.detach())\n",
        "legends.append(f'{i} {tuple(final_layer_bias.shape)}')"
      ]
    },
    {
      "cell_type": "markdown",
      "metadata": {
        "id": "NBN0kjYM514O"
      },
      "source": [
        "Sure enough, the only signs of life in the network are in the bias parameters. Since these are the only paramters with gradient, our network is essentially learning a constant function y = b. If this is truly the case, we'd expect the network to learn to always pick the most common letters. Furthermore, we'd expect every network output to be identical regardless of input. We can verify:"
      ]
    },
    {
      "cell_type": "code",
      "execution_count": 57,
      "metadata": {
        "colab": {
          "base_uri": "https://localhost:8080/"
        },
        "id": "5qn91BZb514O",
        "outputId": "f748cb15-62fe-4369-9be6-5ca532000719"
      },
      "outputs": [
        {
          "output_type": "execute_result",
          "data": {
            "text/plain": [
              "tensor([[ 1.7558,  1.8474, -0.7040, -0.3164,  0.0675,  1.3981, -1.3612, -0.9164,\n",
              "          0.3487,  1.2642, -0.5838, -0.0278,  1.0283,  0.2435,  1.2389,  0.4197,\n",
              "         -1.2858, -1.6630,  0.8910,  0.4232,  0.0474, -0.4927, -0.7057, -1.3868,\n",
              "         -1.4177,  0.6287, -0.7409],\n",
              "        [ 1.7558,  1.8474, -0.7040, -0.3164,  0.0675,  1.3981, -1.3612, -0.9164,\n",
              "          0.3487,  1.2642, -0.5838, -0.0278,  1.0283,  0.2435,  1.2389,  0.4197,\n",
              "         -1.2858, -1.6630,  0.8910,  0.4232,  0.0474, -0.4927, -0.7057, -1.3868,\n",
              "         -1.4177,  0.6287, -0.7409],\n",
              "        [ 1.7558,  1.8474, -0.7040, -0.3164,  0.0675,  1.3981, -1.3612, -0.9164,\n",
              "          0.3487,  1.2642, -0.5838, -0.0278,  1.0283,  0.2435,  1.2389,  0.4197,\n",
              "         -1.2858, -1.6630,  0.8910,  0.4232,  0.0474, -0.4927, -0.7057, -1.3868,\n",
              "         -1.4177,  0.6287, -0.7409],\n",
              "        [ 1.7558,  1.8474, -0.7040, -0.3164,  0.0675,  1.3981, -1.3612, -0.9164,\n",
              "          0.3487,  1.2642, -0.5838, -0.0278,  1.0283,  0.2435,  1.2389,  0.4197,\n",
              "         -1.2858, -1.6630,  0.8910,  0.4232,  0.0474, -0.4927, -0.7057, -1.3868,\n",
              "         -1.4177,  0.6287, -0.7409],\n",
              "        [ 1.7558,  1.8474, -0.7040, -0.3164,  0.0675,  1.3981, -1.3612, -0.9164,\n",
              "          0.3487,  1.2642, -0.5838, -0.0278,  1.0283,  0.2435,  1.2389,  0.4197,\n",
              "         -1.2858, -1.6630,  0.8910,  0.4232,  0.0474, -0.4927, -0.7057, -1.3868,\n",
              "         -1.4177,  0.6287, -0.7409]], grad_fn=<AddBackward0>)"
            ]
          },
          "metadata": {},
          "execution_count": 57
        }
      ],
      "source": [
        "forward(layers, embeddings, train_X[0:5])"
      ]
    },
    {
      "cell_type": "markdown",
      "metadata": {
        "id": "jRd9YcyG514O"
      },
      "source": [
        "Our intuition was correct!\n",
        "\n",
        "And sure enough..."
      ]
    },
    {
      "cell_type": "code",
      "execution_count": 58,
      "metadata": {
        "colab": {
          "base_uri": "https://localhost:8080/"
        },
        "id": "V00TlNiT514O",
        "outputId": "c7829786-1b47-42ea-be50-7e4581af7e0c"
      },
      "outputs": [
        {
          "output_type": "execute_result",
          "data": {
            "text/plain": [
              "tensor(1)"
            ]
          },
          "metadata": {},
          "execution_count": 58
        }
      ],
      "source": [
        "forward(layers, embeddings, train_X[0:5])[0].argmax(dim=-1)"
      ]
    },
    {
      "cell_type": "code",
      "execution_count": 59,
      "metadata": {
        "colab": {
          "base_uri": "https://localhost:8080/"
        },
        "id": "usxRcMyw514O",
        "outputId": "9fdc5b59-85ee-40b8-afb0-8080d0c9f65b"
      },
      "outputs": [
        {
          "output_type": "stream",
          "name": "stdout",
          "text": [
            "a\n"
          ]
        }
      ],
      "source": [
        "counts = torch.zeros(num_chars)\n",
        "for word in train_words:\n",
        "    for c in word:\n",
        "        counts[stoi[c]] += 1\n",
        "print(itos[torch.argmax(counts).item()])"
      ]
    },
    {
      "cell_type": "markdown",
      "metadata": {
        "id": "xOteYkEJ514O"
      },
      "source": [
        "The most likely character simply becomes the most common one in the dataset!"
      ]
    },
    {
      "cell_type": "markdown",
      "metadata": {
        "id": "4L30LUO9514O"
      },
      "source": [
        "But why are the output layer biases the only parameters with any gradient?\n",
        "\n",
        "Well...if we calculate the gradient of the final layer's weights, for a particular weight w the gradient becomes x (value of input) by the definition $\\frac{d}{dw}w*x = x$, multiplied by the gradient of the loss function. Since the input value is zero, the gradient for each of the output layer weights becomes zero. Then... this gradient propogates back and since we are only using products and tanh throughout the network makes the gradients for each of the other linear layers zero. This phenomenon persists indefinitely because zero of the final output paramters can learn. This goes to show the importance of initializing weights to nonzero values in order to allow gradient to propogate. Even if we initialized the embeddings to nonzero values the phenomenon would persist."
      ]
    },
    {
      "cell_type": "markdown",
      "metadata": {
        "id": "WUD7sx9g514O"
      },
      "source": [
        "### E05:\n",
        "BatchNorm, unlike other normalization layers like LayerNorm/GroupNorm etc. has the big advantage that after training, the batchnorm gamma/beta can be \"folded into\" the weights of the preceeding Linear layers, effectively erasing the need to forward it at test time. Set up a small 3-layer MLP with batchnorms, train the network, then \"fold\" the batchnorm gamma/beta into the preceeding Linear layer's W,b by creating a new W2, b2 and erasing the batch norm. Verify that this gives the same forward pass during inference. i.e. we see that the batchnorm is there just for stabilizing the training, and can be thrown out after training is done! pretty cool."
      ]
    },
    {
      "cell_type": "markdown",
      "metadata": {
        "id": "TH4KXcfV514O"
      },
      "source": [
        "Let's review our batchnorm implementation from lecture:"
      ]
    },
    {
      "cell_type": "code",
      "execution_count": 60,
      "metadata": {
        "id": "38rFSews514O"
      },
      "outputs": [],
      "source": [
        "class BatchNorm:\n",
        "    def __init__(self, dim, eps=1e-6, momentum=0.1, training=True) -> None:\n",
        "        self.eps = eps\n",
        "        self.momentum = momentum\n",
        "        self.training = training\n",
        "\n",
        "        # gain and bias (gamma and beta)\n",
        "        self.gain = torch.ones(dim)\n",
        "        self.bias = torch.zeros(dim)\n",
        "\n",
        "        # running mean and variance\n",
        "        self.running_mean = torch.zeros(dim)\n",
        "        self.running_variance = torch.ones(dim)\n",
        "\n",
        "    def __call__(self, x):\n",
        "        if self.training:\n",
        "            mean = x.mean(0, keepdim=True)\n",
        "            variance = x.var(0, keepdim=True)\n",
        "        else:\n",
        "            mean = self.running_mean\n",
        "            variance = self.running_variance\n",
        "\n",
        "        xout = (x - mean) / torch.sqrt(variance + self.eps)\n",
        "        self.out = (xout * self.gain) + self.bias\n",
        "\n",
        "        if self.training:\n",
        "            with torch.no_grad():\n",
        "                self.running_mean = ((1 - self.momentum) * self.running_mean) + (self.momentum * mean)\n",
        "                self.running_variance = ((1 - self.momentum) * self.running_variance) + (self.momentum * variance)\n",
        "\n",
        "        return self.out\n",
        "\n",
        "    def parameters(self):\n",
        "        return [self.gain, self.bias]\n",
        ""
      ]
    },
    {
      "cell_type": "markdown",
      "metadata": {
        "id": "XuOTzOdU514P"
      },
      "source": [
        "We can see that during inference, our batchnorm layer output is given by\n",
        "\n",
        "$out=g_n * (\\frac{(x-\\mu)}{\\sqrt{v + \\epsilon}}) + b_n$\n",
        "\n",
        "Then, substituting our previous layer's math, we get:\n",
        "\n",
        "$out=g_n * (\\frac{(w*x + b)-\\mu)}{\\sqrt{v + \\epsilon}}) + b_n$\n",
        "\n",
        "Which we can simplify to:\n",
        "\n",
        "\n",
        "$out=(g_n * \\frac{w}{\\sqrt{v + \\epsilon}}) * x + (g_n * \\frac{b-\\mu}{\\sqrt{v + \\epsilon}} + b_n)$\n",
        "\n",
        "Which implies that in order to 'fold in' the batch normalization layer,\n",
        "\n",
        "$w_2= (g_n * \\frac{w}{\\sqrt{v + \\epsilon}}) $ and\n",
        "\n",
        "$b_2= (g_n * \\frac{b-\\mu}{\\sqrt{v + \\epsilon}} + b_n)$\n",
        "\n",
        "This becomes fairly trivial to implement:\n"
      ]
    },
    {
      "cell_type": "code",
      "execution_count": 61,
      "metadata": {
        "id": "GUP3O-2D514P"
      },
      "outputs": [],
      "source": [
        "def fold_in(linear_layer: Linear, batchnorm_layer: BatchNorm) -> Linear:\n",
        "    linear_layer.weights.data = batchnorm_layer.gain.data * (linear_layer.weights.data / torch.sqrt(batchnorm_layer.running_variance + batchnorm_layer.eps))\n",
        "    linear_layer.bias.data = batchnorm_layer.gain.data * ((linear_layer.bias.data - batchnorm_layer.running_mean) / torch.sqrt(batchnorm_layer.running_variance + batchnorm_layer.eps)) + batchnorm_layer.bias.data\n",
        "\n",
        "    return linear_layer"
      ]
    },
    {
      "cell_type": "markdown",
      "metadata": {
        "id": "JHNVbU0g514P"
      },
      "source": [
        "Then, given a simple MLP network, we can show that the two are equivalent:"
      ]
    },
    {
      "cell_type": "code",
      "execution_count": 62,
      "metadata": {
        "colab": {
          "base_uri": "https://localhost:8080/"
        },
        "id": "jk_PoXLS514P",
        "outputId": "31c277c2-92f7-4a75-a05d-94bd1e250468"
      },
      "outputs": [
        {
          "output_type": "stream",
          "name": "stdout",
          "text": [
            "Number of Parameters: 26897\n",
            "Iteration 0 loss: 3.295837163925171\n"
          ]
        }
      ],
      "source": [
        "embeddings = torch.randn((num_chars, embedding_size))\n",
        "layers = [\n",
        "    Linear(embedding_size * block_size, hidden_layer_size),\n",
        "    BatchNorm(hidden_layer_size),\n",
        "    Tanh(),\n",
        "    Linear(hidden_layer_size, hidden_layer_size),\n",
        "    BatchNorm(hidden_layer_size),\n",
        "    Tanh(),\n",
        "    Linear(hidden_layer_size, hidden_layer_size),\n",
        "    BatchNorm(hidden_layer_size),\n",
        "    Tanh(),\n",
        "    Linear(hidden_layer_size, num_chars)\n",
        "]\n",
        "\n",
        "with torch.no_grad():\n",
        "    for layer in layers[:-1]:\n",
        "        if isinstance(layer, Linear):\n",
        "            layer.weights *= 5/3 # kaiming gain for tanh\n",
        "    layers[-1].weights *= 0.1\n",
        "\n",
        "parameters = [embeddings] + [p for layer in layers for p in layer.parameters()]\n",
        "print(f'Number of Parameters: {sum(p.numel() for p in parameters)}')\n",
        "for p in parameters:\n",
        "    p.requires_grad = True\n",
        "# train it for a few iterations so we establish running mean and variance\n",
        "losses, ud = gradient_descent(train_X, train_Y, layers, embeddings, parameters, iterations=1000, minibatch_size=128, lr=0.2, lr_decay=0.00002, print_every=10000, debug=True)"
      ]
    },
    {
      "cell_type": "code",
      "execution_count": 63,
      "metadata": {
        "id": "GU1cjKJT514P"
      },
      "outputs": [],
      "source": [
        "result_1 = forward(layers, embeddings, train_X[0:5])"
      ]
    },
    {
      "cell_type": "code",
      "execution_count": 64,
      "metadata": {
        "id": "8cse1Pyd514P"
      },
      "outputs": [],
      "source": [
        "folded_layers = [\n",
        "    fold_in(layers[0], layers[1]),\n",
        "    Tanh(),\n",
        "    fold_in(layers[3], layers[4]),\n",
        "    Tanh(),\n",
        "    fold_in(layers[6], layers[7]),\n",
        "    Tanh(),\n",
        "    layers[9]\n",
        "]"
      ]
    },
    {
      "cell_type": "code",
      "execution_count": 65,
      "metadata": {
        "id": "_EGP6UXl514P"
      },
      "outputs": [],
      "source": [
        "result_2 = forward(folded_layers, embeddings, train_X[0:5])"
      ]
    },
    {
      "cell_type": "code",
      "execution_count": 66,
      "metadata": {
        "colab": {
          "base_uri": "https://localhost:8080/"
        },
        "id": "qVMpf81x514P",
        "outputId": "1d5fb7cd-494c-44a7-ca39-5cf55a5ab8cb"
      },
      "outputs": [
        {
          "output_type": "execute_result",
          "data": {
            "text/plain": [
              "tensor(True)"
            ]
          },
          "metadata": {},
          "execution_count": 66
        }
      ],
      "source": [
        "torch.eq(result_1, result_2).all()"
      ]
    },
    {
      "cell_type": "markdown",
      "metadata": {
        "id": "pVc7mQaU514P"
      },
      "source": [
        "*Voila!*"
      ]
    }
  ],
  "metadata": {
    "kernelspec": {
      "display_name": "python3",
      "language": "python",
      "name": "python3"
    },
    "language_info": {
      "codemirror_mode": {
        "name": "ipython",
        "version": 3
      },
      "file_extension": ".py",
      "mimetype": "text/x-python",
      "name": "python",
      "nbconvert_exporter": "python",
      "pygments_lexer": "ipython3",
      "version": "3.8.16"
    },
    "colab": {
      "provenance": []
    }
  },
  "nbformat": 4,
  "nbformat_minor": 0
}